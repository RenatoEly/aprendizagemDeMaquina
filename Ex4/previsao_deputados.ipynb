{
 "cells": [
  {
   "cell_type": "code",
   "execution_count": 38,
   "metadata": {},
   "outputs": [],
   "source": [
    "import pandas as pd\n",
    "import numpy as np\n",
    "import seaborn as sns\n",
    "import matplotlib.pyplot as plt\n",
    "from sklearn.model_selection import KFold\n",
    "from sklearn import metrics\n",
    "from sklearn.model_selection import cross_val_score\n",
    "\n",
    "from sklearn.linear_model import LogisticRegression\n",
    "from imblearn.under_sampling import ClusterCentroids\n",
    "from sklearn.neighbors import KNeighborsClassifier\n",
    "from sklearn.tree import DecisionTreeClassifier\n",
    "from sklearn.ensemble import RandomForestClassifier\n",
    "from sklearn.ensemble import AdaBoostClassifier\n",
    "from sklearn.preprocessing import PolynomialFeatures\n",
    "from sklearn.pipeline import make_pipeline\n",
    "from sklearn.model_selection import train_test_split"
   ]
  },
  {
   "cell_type": "code",
   "execution_count": 39,
   "metadata": {},
   "outputs": [],
   "source": [
    "treino = pd.read_csv(\"train.csv\")\n",
    "teste = pd.read_csv(\"test.csv\")\n",
    "\n",
    "treino = treino.drop(columns=['nome', 'sequencial_candidato'])\n",
    "teste = teste.drop(columns=['nome', 'sequencial_candidato'])"
   ]
  },
  {
   "cell_type": "code",
   "execution_count": 40,
   "metadata": {},
   "outputs": [],
   "source": [
    "numeric_feats = treino.dtypes[treino.dtypes != \"object\"].index\n",
    "\n",
    "numeric_feats = numeric_feats.drop('ano')\n",
    "numeric_feats = numeric_feats.drop('situacao')\n",
    "\n",
    "treino[numeric_feats] = np.log1p(treino[numeric_feats])\n",
    "\n",
    "teste[numeric_feats] = np.log1p(teste[numeric_feats])"
   ]
  },
  {
   "cell_type": "code",
   "execution_count": 41,
   "metadata": {},
   "outputs": [],
   "source": [
    "allData = pd.concat((teste,treino), sort=False)\n",
    "\n",
    "teste = allData.loc[:,:'ocupacao']\n",
    "teste = pd.get_dummies(teste)\n",
    "\n",
    "treino_X = teste.loc[teste['ano'] != 2014]\n",
    "teste = teste.loc[teste['ano'] == 2014]\n",
    "\n",
    "treino_Y = allData.loc[allData['ano'] != 2014]\n",
    "treino_Y = treino_Y.loc[:,'situacao']"
   ]
  },
  {
   "cell_type": "code",
   "execution_count": 42,
   "metadata": {},
   "outputs": [],
   "source": [
    "treino_X = treino.loc[:,:'ocupacao']\n",
    "treino_Y = treino.loc[:,'situacao']"
   ]
  },
  {
   "cell_type": "code",
   "execution_count": 43,
   "metadata": {},
   "outputs": [],
   "source": [
    "treino_X = pd.get_dummies(treino_X)\n",
    "teste = pd.get_dummies(teste)"
   ]
  },
  {
   "cell_type": "markdown",
   "metadata": {},
   "source": [
    "## 1) Há desbalanceamento das classes? Em que proporção? "
   ]
  },
  {
   "cell_type": "code",
   "execution_count": 44,
   "metadata": {},
   "outputs": [
    {
     "data": {
      "text/plain": [
       "<matplotlib.axes._subplots.AxesSubplot at 0x7fe02e226320>"
      ]
     },
     "execution_count": 44,
     "metadata": {},
     "output_type": "execute_result"
    },
    {
     "data": {
      "image/png": "[encoded data removed]",
      "text/plain": [
       "<Figure size 432x288 with 1 Axes>"
      ]
     },
     "metadata": {
      "needs_background": "light"
     },
     "output_type": "display_data"
    }
   ],
   "source": [
    "sns.countplot(treino_Y)"
   ]
  },
  {
   "cell_type": "markdown",
   "metadata": {},
   "source": [
    "É clara a diferença entre a quantidade de instâncias da classe nao_eleito e eleito. Isso pode levar o modelo a aprender de forma errada, pois pode deixar o modelo enviesado, classificando as instâncias como sendo da classe majoritária.\n",
    "\n",
    "Para balancear as classes usarei a técnica de under-sampling, cluser centroids."
   ]
  },
  {
   "cell_type": "code",
   "execution_count": null,
   "metadata": {},
   "outputs": [],
   "source": [
    "cc = ClusterCentroids()\n",
    "x_cc, y_cc = cc.fit_sample(treino_X, treino_Y)\n",
    "y_cc = y_cc[:,np.newaxis]\n",
    "\n",
    "sns.countplot(y_cc[:,0])"
   ]
  },
  {
   "cell_type": "markdown",
   "metadata": {},
   "source": [
    "Com a mesma quantidade de instâncias entre as duas classes, a chance de o modelo sofrer de underfiting é bem menor."
   ]
  },
  {
   "cell_type": "code",
   "execution_count": null,
   "metadata": {},
   "outputs": [],
   "source": [
    "data = np.concatenate((x_cc, y_cc), axis=1)\n",
    "data = np.random.permutation(data)\n",
    "x_cc = data[:,0:-1]\n",
    "y_cc = data[:,-1]\n",
    "y_cc = y_cc.astype('int')"
   ]
  },
  {
   "cell_type": "markdown",
   "metadata": {},
   "source": [
    "Para melhorar a validação dos modelos, utilizo uma função para fazer uma permutação aleatória nos dados, pois esses ficam agrupados na saída da função de cluster centroids."
   ]
  },
  {
   "cell_type": "code",
   "execution_count": null,
   "metadata": {},
   "outputs": [],
   "source": [
    "treino_X = np.array(treino_X)\n",
    "treino_Y = np.array(treino_Y)"
   ]
  },
  {
   "cell_type": "markdown",
   "metadata": {},
   "source": [
    "Alterei o tipo do data frame para array, para a função de report funcionar apropriadamente."
   ]
  },
  {
   "cell_type": "code",
   "execution_count": 29,
   "metadata": {},
   "outputs": [],
   "source": [
    "def cv_report2(model, predictors, outcome, nfolds):\n",
    "    \n",
    "    kf = KFold(n_splits=nfolds)\n",
    "    \n",
    "    precision = [[],[]]\n",
    "    recall = [[],[]]\n",
    "    f1_score = [[],[]]\n",
    "    \n",
    "    for train, validation in kf.split(predictors):\n",
    "        train_predictors = (predictors[train,:])\n",
    "        train_target =  outcome[train]\n",
    "        model.fit(train_predictors, train_target)\n",
    "        \n",
    "        predTrain = model.predict(predictors[train,:])\n",
    "        report = metrics.classification_report(outcome[train], predTrain, output_dict=True)\n",
    "        precision[0].append(report['1']['precision'])\n",
    "        recall[0].append(report['1']['recall'])\n",
    "        f1_score[0].append(report['1']['f1-score'])\n",
    "        \n",
    "        predVal = model.predict(predictors[validation,:])\n",
    "        report = metrics.classification_report(outcome[validation], predVal, output_dict=True)\n",
    "        precision[1].append(report['1']['precision'])\n",
    "        recall[1].append(report['1']['recall'])\n",
    "        f1_score[1].append(report['1']['f1-score'])\n",
    "        \n",
    "    retorno = [[],[]]\n",
    "    retorno[0] = [np.mean(precision[0]),np.mean(recall[0]),np.mean(f1_score[0])]\n",
    "    retorno[1] = [np.mean(precision[1]),np.mean(recall[1]),np.mean(f1_score[1])]\n",
    "    return retorno"
   ]
  },
  {
   "cell_type": "code",
   "execution_count": 16,
   "metadata": {},
   "outputs": [],
   "source": [
    "def validation_report(model, validationX, validationY):\n",
    "    \n",
    "    predVal = model.predict(validationX)\n",
    "    report = metrics.classification_report(validationY, predVal, output_dict=True)\n",
    "    \n",
    "    return [report[\"1\"][\"precision\"],report[\"1\"][\"recall\"],report[\"1\"][\"f1-score\"]]"
   ]
  },
  {
   "cell_type": "code",
   "execution_count": 30,
   "metadata": {},
   "outputs": [],
   "source": [
    "def cv_report(model, predictors, outcome, nfolds):\n",
    "    \n",
    "    kf = KFold(n_splits=nfolds)\n",
    "    f1_score = []\n",
    "    \n",
    "    for train, validation in kf.split(predictors):\n",
    "        train_predictors = (predictors[train,:])\n",
    "        train_target =  outcome[train]\n",
    "        model.fit(train_predictors, train_target)\n",
    "        \n",
    "        predVal = model.predict(predictors[validation,:])\n",
    "        report = metrics.classification_report(outcome[validation], predVal, output_dict=True)\n",
    "        f1_score.append(report['1']['f1-score'])\n",
    "\n",
    "    return np.mean(f1_score)"
   ]
  },
  {
   "cell_type": "markdown",
   "metadata": {},
   "source": [
    "Função que retorna o precision, recall e F1, no treino e na validação. Os calculos são referentes apenas à variável eleito."
   ]
  },
  {
   "cell_type": "code",
   "execution_count": 12,
   "metadata": {},
   "outputs": [],
   "source": [
    "def real_f1(model):\n",
    "    return metrics.classification_report(treino_Y, model.predict(treino_X), output_dict=True)['1']['f1-score']"
   ]
  },
  {
   "cell_type": "markdown",
   "metadata": {},
   "source": [
    "Função que testa um modelo com todos os dados de 2006 e 2010, e retorna o F1 de um modelo para todos os dados."
   ]
  },
  {
   "cell_type": "code",
   "execution_count": 13,
   "metadata": {},
   "outputs": [],
   "source": [
    "def report_full(model,trainX, trainY, n):\n",
    "    model.fit(trainX, trainY)\n",
    "    return real_f1(model)"
   ]
  },
  {
   "cell_type": "markdown",
   "metadata": {},
   "source": [
    "Treina o modelo com alguns dados e chama a função real_f1 para testar o modelo com todos os dados."
   ]
  },
  {
   "cell_type": "markdown",
   "metadata": {},
   "source": [
    "## 2) Treine: um modelo de regressão logística, KNN, uma árvore de decisão e um modelo de adaboost."
   ]
  },
  {
   "cell_type": "markdown",
   "metadata": {},
   "source": [
    "Os modelos a seguir serão treinados com e sem os dados balanceados, para comparar o desempenho de cada um."
   ]
  },
  {
   "cell_type": "markdown",
   "metadata": {},
   "source": [
    "## Regressão Logística"
   ]
  },
  {
   "cell_type": "markdown",
   "metadata": {},
   "source": [
    "### Dados não balanceados"
   ]
  },
  {
   "cell_type": "code",
   "execution_count": 31,
   "metadata": {},
   "outputs": [],
   "source": [
    "lambdas = np.arange(0.01,2,0.01).tolist()"
   ]
  },
  {
   "cell_type": "code",
   "execution_count": 32,
   "metadata": {},
   "outputs": [],
   "source": [
    "cv_logRegUnbalanced = [cv_report(LogisticRegression(solver=\"lbfgs\", max_iter=10000, C=lbd, random_state=1), treino_X, treino_Y, 5)\n",
    "            for lbd in lambdas]"
   ]
  },
  {
   "cell_type": "code",
   "execution_count": 34,
   "metadata": {},
   "outputs": [
    {
     "data": {
      "image/png": "[encoded data removed]",
      "text/plain": [
       "<Figure size 432x288 with 1 Axes>"
      ]
     },
     "metadata": {
      "needs_background": "light"
     },
     "output_type": "display_data"
    },
    {
     "name": "stdout",
     "output_type": "stream",
     "text": [
      "O melhor alpha é 1.02, com F1 = 0.7179456293598359\n"
     ]
    }
   ],
   "source": [
    "cv_logRegUnbalanced = pd.Series(cv_logRegUnbalanced, index = lambdas)\n",
    "\n",
    "cv_logRegUnbalanced.plot(title = \"Cross validation - Logistic Regression (Unbalanced)\")\n",
    "plt.xlabel(\"Lambda\")\n",
    "plt.ylabel(\"F1-score\")\n",
    "plt.show()\n",
    "\n",
    "print(\"O melhor alpha é {0}, com F1 = {1}\".format(cv_logRegUnbalanced.idxmax(), cv_logRegUnbalanced.max()))"
   ]
  },
  {
   "cell_type": "markdown",
   "metadata": {},
   "source": [
    "### Dados balanceados"
   ]
  },
  {
   "cell_type": "code",
   "execution_count": 37,
   "metadata": {},
   "outputs": [
    {
     "ename": "KeyError",
     "evalue": "'1'",
     "output_type": "error",
     "traceback": [
      "\u001b[0;31m---------------------------------------------------------------------------\u001b[0m",
      "\u001b[0;31mKeyError\u001b[0m                                  Traceback (most recent call last)",
      "\u001b[0;32m<ipython-input-37-bc9084ee3b89>\u001b[0m in \u001b[0;36m<module>\u001b[0;34m()\u001b[0m\n\u001b[1;32m      1\u001b[0m cv_logRegBalanced = [cv_report(LogisticRegression(solver=\"lbfgs\", max_iter=10000, C=lbd, random_state=1), x_cc, y_cc, 5)\n\u001b[0;32m----> 2\u001b[0;31m             for lbd in lambdas]\n\u001b[0m\u001b[1;32m      3\u001b[0m \u001b[0mcv_logRegBalanced\u001b[0m \u001b[0;34m=\u001b[0m \u001b[0mpd\u001b[0m\u001b[0;34m.\u001b[0m\u001b[0mSeries\u001b[0m\u001b[0;34m(\u001b[0m\u001b[0mcv_logRegBalanced\u001b[0m\u001b[0;34m,\u001b[0m \u001b[0mindex\u001b[0m \u001b[0;34m=\u001b[0m \u001b[0mlambdas\u001b[0m\u001b[0;34m)\u001b[0m\u001b[0;34m\u001b[0m\u001b[0m\n",
      "\u001b[0;32m<ipython-input-37-bc9084ee3b89>\u001b[0m in \u001b[0;36m<listcomp>\u001b[0;34m(.0)\u001b[0m\n\u001b[1;32m      1\u001b[0m cv_logRegBalanced = [cv_report(LogisticRegression(solver=\"lbfgs\", max_iter=10000, C=lbd, random_state=1), x_cc, y_cc, 5)\n\u001b[0;32m----> 2\u001b[0;31m             for lbd in lambdas]\n\u001b[0m\u001b[1;32m      3\u001b[0m \u001b[0mcv_logRegBalanced\u001b[0m \u001b[0;34m=\u001b[0m \u001b[0mpd\u001b[0m\u001b[0;34m.\u001b[0m\u001b[0mSeries\u001b[0m\u001b[0;34m(\u001b[0m\u001b[0mcv_logRegBalanced\u001b[0m\u001b[0;34m,\u001b[0m \u001b[0mindex\u001b[0m \u001b[0;34m=\u001b[0m \u001b[0mlambdas\u001b[0m\u001b[0;34m)\u001b[0m\u001b[0;34m\u001b[0m\u001b[0m\n",
      "\u001b[0;32m<ipython-input-30-e9894bec0faf>\u001b[0m in \u001b[0;36mcv_report\u001b[0;34m(model, predictors, outcome, nfolds)\u001b[0m\n\u001b[1;32m     11\u001b[0m         \u001b[0mpredVal\u001b[0m \u001b[0;34m=\u001b[0m \u001b[0mmodel\u001b[0m\u001b[0;34m.\u001b[0m\u001b[0mpredict\u001b[0m\u001b[0;34m(\u001b[0m\u001b[0mpredictors\u001b[0m\u001b[0;34m[\u001b[0m\u001b[0mvalidation\u001b[0m\u001b[0;34m,\u001b[0m\u001b[0;34m:\u001b[0m\u001b[0;34m]\u001b[0m\u001b[0;34m)\u001b[0m\u001b[0;34m\u001b[0m\u001b[0m\n\u001b[1;32m     12\u001b[0m         \u001b[0mreport\u001b[0m \u001b[0;34m=\u001b[0m \u001b[0mmetrics\u001b[0m\u001b[0;34m.\u001b[0m\u001b[0mclassification_report\u001b[0m\u001b[0;34m(\u001b[0m\u001b[0moutcome\u001b[0m\u001b[0;34m[\u001b[0m\u001b[0mvalidation\u001b[0m\u001b[0;34m]\u001b[0m\u001b[0;34m,\u001b[0m \u001b[0mpredVal\u001b[0m\u001b[0;34m,\u001b[0m \u001b[0moutput_dict\u001b[0m\u001b[0;34m=\u001b[0m\u001b[0;32mTrue\u001b[0m\u001b[0;34m)\u001b[0m\u001b[0;34m\u001b[0m\u001b[0m\n\u001b[0;32m---> 13\u001b[0;31m         \u001b[0mf1_score\u001b[0m\u001b[0;34m.\u001b[0m\u001b[0mappend\u001b[0m\u001b[0;34m(\u001b[0m\u001b[0mreport\u001b[0m\u001b[0;34m[\u001b[0m\u001b[0;34m'1'\u001b[0m\u001b[0;34m]\u001b[0m\u001b[0;34m[\u001b[0m\u001b[0;34m'f1-score'\u001b[0m\u001b[0;34m]\u001b[0m\u001b[0;34m)\u001b[0m\u001b[0;34m\u001b[0m\u001b[0m\n\u001b[0m\u001b[1;32m     14\u001b[0m \u001b[0;34m\u001b[0m\u001b[0m\n\u001b[1;32m     15\u001b[0m     \u001b[0;32mreturn\u001b[0m \u001b[0mnp\u001b[0m\u001b[0;34m.\u001b[0m\u001b[0mmean\u001b[0m\u001b[0;34m(\u001b[0m\u001b[0mf1_score\u001b[0m\u001b[0;34m)\u001b[0m\u001b[0;34m\u001b[0m\u001b[0m\n",
      "\u001b[0;31mKeyError\u001b[0m: '1'"
     ]
    }
   ],
   "source": [
    "cv_logRegBalanced = [cv_report(LogisticRegression(solver=\"lbfgs\", max_iter=10000, C=lbd, random_state=1), x_cc, y_cc, 5)\n",
    "            for lbd in lambdas]\n",
    "cv_logRegBalanced = pd.Series(cv_logRegBalanced, index = lambdas)"
   ]
  },
  {
   "cell_type": "code",
   "execution_count": 36,
   "metadata": {},
   "outputs": [
    {
     "ename": "NameError",
     "evalue": "name 'cv_logRegBalanced' is not defined",
     "output_type": "error",
     "traceback": [
      "\u001b[0;31m---------------------------------------------------------------------------\u001b[0m",
      "\u001b[0;31mNameError\u001b[0m                                 Traceback (most recent call last)",
      "\u001b[0;32m<ipython-input-36-961a95c02723>\u001b[0m in \u001b[0;36m<module>\u001b[0;34m()\u001b[0m\n\u001b[0;32m----> 1\u001b[0;31m \u001b[0mcv_logRegBalanced\u001b[0m\u001b[0;34m.\u001b[0m\u001b[0mplot\u001b[0m\u001b[0;34m(\u001b[0m\u001b[0mtitle\u001b[0m \u001b[0;34m=\u001b[0m \u001b[0;34m\"Cross validation - Logistic Regression (Balanced)\"\u001b[0m\u001b[0;34m)\u001b[0m\u001b[0;34m\u001b[0m\u001b[0m\n\u001b[0m\u001b[1;32m      2\u001b[0m \u001b[0mplt\u001b[0m\u001b[0;34m.\u001b[0m\u001b[0mxlabel\u001b[0m\u001b[0;34m(\u001b[0m\u001b[0;34m\"Lambda\"\u001b[0m\u001b[0;34m)\u001b[0m\u001b[0;34m\u001b[0m\u001b[0m\n\u001b[1;32m      3\u001b[0m \u001b[0mplt\u001b[0m\u001b[0;34m.\u001b[0m\u001b[0mylabel\u001b[0m\u001b[0;34m(\u001b[0m\u001b[0;34m\"F1-score\"\u001b[0m\u001b[0;34m)\u001b[0m\u001b[0;34m\u001b[0m\u001b[0m\n\u001b[1;32m      4\u001b[0m \u001b[0mplt\u001b[0m\u001b[0;34m.\u001b[0m\u001b[0mshow\u001b[0m\u001b[0;34m(\u001b[0m\u001b[0;34m)\u001b[0m\u001b[0;34m\u001b[0m\u001b[0m\n\u001b[1;32m      5\u001b[0m \u001b[0;34m\u001b[0m\u001b[0m\n",
      "\u001b[0;31mNameError\u001b[0m: name 'cv_logRegBalanced' is not defined"
     ]
    }
   ],
   "source": [
    "cv_logRegBalanced.plot(title = \"Cross validation - Logistic Regression (Balanced)\")\n",
    "plt.xlabel(\"Lambda\")\n",
    "plt.ylabel(\"F1-score\")\n",
    "plt.show()\n",
    "\n",
    "print(\"O melhor alpha é {0}, com F1 = {1}\".format(cv_logRegBalanced.idxmax(), cv_logRegBalanced.max()))"
   ]
  },
  {
   "cell_type": "code",
   "execution_count": 43,
   "metadata": {},
   "outputs": [
    {
     "name": "stdout",
     "output_type": "stream",
     "text": [
      "O F1 do modelo para todos os dados é 0.9061926003673576\n"
     ]
    }
   ],
   "source": [
    "lgModel = LogisticRegression(solver=\"lbfgs\", max_iter=10000, C=cv_logRegBalanced.idxmax(), random_state=1)\n",
    "lgModel.fit(x_cc,y_cc)\n",
    "\n",
    "print(\"O F1 do modelo para todos os dados é {0}\".format(real_f1(lgModel)))"
   ]
  },
  {
   "cell_type": "markdown",
   "metadata": {},
   "source": [
    "## KNN"
   ]
  },
  {
   "cell_type": "markdown",
   "metadata": {},
   "source": [
    "### Dados não balanceados"
   ]
  },
  {
   "cell_type": "code",
   "execution_count": 32,
   "metadata": {},
   "outputs": [],
   "source": [
    "k_list = np.arange(1,100,1).tolist()"
   ]
  },
  {
   "cell_type": "code",
   "execution_count": 33,
   "metadata": {},
   "outputs": [],
   "source": [
    "cv_knnUnbalanced = [cv_report(KNeighborsClassifier(n_neighbors = n), treino_X, treino_Y, 5).mean()\n",
    "            for n in k_list]"
   ]
  },
  {
   "cell_type": "code",
   "execution_count": 34,
   "metadata": {},
   "outputs": [
    {
     "data": {
      "image/png": "[encoded data removed]",
      "text/plain": [
       "<Figure size 432x288 with 1 Axes>"
      ]
     },
     "metadata": {
      "needs_background": "light"
     },
     "output_type": "display_data"
    },
    {
     "name": "stdout",
     "output_type": "stream",
     "text": [
      "O melhor lambda é 15, com F1-score = 0.9101321801987867\n"
     ]
    }
   ],
   "source": [
    "cv_knnUnbalanced = pd.Series(cv_knnUnbalanced, index = k_list)\n",
    "cv_knnUnbalanced.plot(title = \"Cross validation - KNN (Unbalanced)\")\n",
    "plt.xlabel(\"Nº vizinhos\")\n",
    "plt.ylabel(\"F1-score\")\n",
    "plt.show()\n",
    "\n",
    "print(\"O melhor lambda é {0}, com F1-score = {1}\".format(cv_knnUnbalanced.idxmax(), cv_knnUnbalanced.max()))"
   ]
  },
  {
   "cell_type": "markdown",
   "metadata": {},
   "source": [
    "### Dados balanceados"
   ]
  },
  {
   "cell_type": "code",
   "execution_count": 50,
   "metadata": {},
   "outputs": [],
   "source": [
    "cv_knnBalanced = [cv_report1(KNeighborsClassifier(n_neighbors = n), x_cc, y_cc, 5)\n",
    "            for n in k_list]"
   ]
  },
  {
   "cell_type": "code",
   "execution_count": 51,
   "metadata": {},
   "outputs": [
    {
     "data": {
      "image/png": "[encoded data removed]",
      "text/plain": [
       "<Figure size 432x288 with 1 Axes>"
      ]
     },
     "metadata": {
      "needs_background": "light"
     },
     "output_type": "display_data"
    },
    {
     "name": "stdout",
     "output_type": "stream",
     "text": [
      "O melhor lambda é 1, com F1-score = 0.9888480713723432\n"
     ]
    }
   ],
   "source": [
    "cv_knnBalanced = pd.Series(cv_knnBalanced, index = k_list)\n",
    "cv_knnBalanced.plot(title = \"Cross validation - KNN (Balanced)\")\n",
    "plt.xlabel(\"Nº vizinhos\")\n",
    "plt.ylabel(\"F1-score\")\n",
    "plt.show()\n",
    "\n",
    "print(\"O melhor lambda é {0}, com F1-score = {1}\".format(cv_knnBalanced.idxmax(), cv_knnBalanced.max()))"
   ]
  },
  {
   "cell_type": "code",
   "execution_count": 56,
   "metadata": {},
   "outputs": [
    {
     "name": "stdout",
     "output_type": "stream",
     "text": [
      "O F1 do modelo para todos os dados é 0.9888480713723432\n"
     ]
    }
   ],
   "source": [
    "knnModel = KNeighborsClassifier(n_neighbors=cv_knnBalanced.idxmax())\n",
    "knnModel.fit(x_cc,y_cc)\n",
    "\n",
    "print(\"O F1 do modelo para todos os dados é {0}\".format(real_f1(knnModel)))"
   ]
  },
  {
   "cell_type": "markdown",
   "metadata": {},
   "source": [
    "## Decision tree"
   ]
  },
  {
   "cell_type": "markdown",
   "metadata": {},
   "source": [
    "### Dados não balanceados"
   ]
  },
  {
   "cell_type": "code",
   "execution_count": 87,
   "metadata": {},
   "outputs": [],
   "source": [
    "depth_list = np.arange(1,100,1).tolist()"
   ]
  },
  {
   "cell_type": "code",
   "execution_count": 18,
   "metadata": {},
   "outputs": [],
   "source": [
    "cv_treeUnbalanced = [cv_report(DecisionTreeClassifier(max_depth=depth), treino_X, treino_Y, 5).mean()\n",
    "            for depth in depth_list]"
   ]
  },
  {
   "cell_type": "code",
   "execution_count": 19,
   "metadata": {},
   "outputs": [
    {
     "data": {
      "image/png": "[encoded data removed]",
      "text/plain": [
       "<Figure size 432x288 with 1 Axes>"
      ]
     },
     "metadata": {
      "needs_background": "light"
     },
     "output_type": "display_data"
    },
    {
     "name": "stdout",
     "output_type": "stream",
     "text": [
      "O melhor lambda é 1, com F1-score = 0.6908711885676002\n"
     ]
    }
   ],
   "source": [
    "cv_treeUnbalanced = pd.Series(cv_treeUnbalanced, index = depth_list)\n",
    "cv_treeUnbalanced.plot(title = \"Cross validation - Decision tree (Unbalanced)\")\n",
    "plt.xlabel(\"Depth\")\n",
    "plt.ylabel(\"F1-score\")\n",
    "plt.show()\n",
    "\n",
    "print(\"O melhor lambda é {0}, com F1-score = {1}\".format(cv_treeUnbalanced.idxmax(), cv_treeUnbalanced.max()))"
   ]
  },
  {
   "cell_type": "markdown",
   "metadata": {},
   "source": [
    "### Dados balanceados"
   ]
  },
  {
   "cell_type": "code",
   "execution_count": 88,
   "metadata": {},
   "outputs": [],
   "source": [
    "cv_treeBalanced = [cv_report(DecisionTreeClassifier(max_depth=depth), x_cc, y_cc, 5).mean()\n",
    "            for depth in depth_list]"
   ]
  },
  {
   "cell_type": "code",
   "execution_count": 89,
   "metadata": {},
   "outputs": [
    {
     "data": {
      "image/png": "[encoded data removed]",
      "text/plain": [
       "<Figure size 432x288 with 1 Axes>"
      ]
     },
     "metadata": {
      "needs_background": "light"
     },
     "output_type": "display_data"
    },
    {
     "name": "stdout",
     "output_type": "stream",
     "text": [
      "O melhor lambda é 6, com F1-score = 0.9342056851225446\n"
     ]
    }
   ],
   "source": [
    "cv_treeBalanced = pd.Series(cv_treeBalanced, index = depth_list)\n",
    "cv_treeBalanced.plot(title = \"Cross validation - Decision tree (Balanced)\")\n",
    "plt.xlabel(\"Depth\")\n",
    "plt.ylabel(\"F1-score\")\n",
    "plt.show()\n",
    "\n",
    "print(\"A melhor profundidade é {0}, com F1-score = {1}\".format(cv_treeBalanced.idxmax(), cv_treeBalanced.max()))"
   ]
  },
  {
   "cell_type": "code",
   "execution_count": 91,
   "metadata": {},
   "outputs": [
    {
     "name": "stdout",
     "output_type": "stream",
     "text": [
      "O F1 do modelo para todos os dados é 0.8067436368407243\n"
     ]
    }
   ],
   "source": [
    "decTree = DecisionTreeClassifier(max_depth=cv_treeBalanced.idxmax())\n",
    "decTree.fit(x_cc,y_cc)\n",
    "\n",
    "print(\"O F1 do modelo para todos os dados é {0}\".format(real_f1(decTree)))"
   ]
  },
  {
   "cell_type": "markdown",
   "metadata": {},
   "source": [
    "## Adaboost"
   ]
  },
  {
   "cell_type": "markdown",
   "metadata": {},
   "source": [
    "### Dados não balanceados"
   ]
  },
  {
   "cell_type": "code",
   "execution_count": null,
   "metadata": {},
   "outputs": [],
   "source": [
    "estimators = np.arange(1,50,1).tolist()\n",
    "cv_adaBoost =  [cv_report(AdaBoostClassifier(algorithm=\"SAMME.R\", n_estimators=estimator)).mean()\n",
    "            for estimator in estimators]\n",
    "\n",
    "cv_adaBoost = pd.Series(cv_adaBoost, index = estimators)\n",
    "\n",
    "cv_ada.plot(title = \"Cross validation - Adaboost\")\n",
    "plt.xlabel(\"Nº estimator\")\n",
    "plt.ylabel(\"F1-score\")\n",
    "print(\"A quantidade de estimators ideal é {0}, com F1 = {1}\".format(cv_ada.idxmax(), cv_ada.max()))"
   ]
  },
  {
   "cell_type": "markdown",
   "metadata": {},
   "source": [
    "### Dados balanceados"
   ]
  },
  {
   "cell_type": "code",
   "execution_count": null,
   "metadata": {},
   "outputs": [],
   "source": [
    "estimators = np.arange(1,50,1).tolist()\n",
    "cv_adaBoost =  [cv_report(AdaBoostClassifier(algorithm=\"SAMME.R\", n_estimators=estimator)).mean()\n",
    "            for estimator in estimators]\n",
    "\n",
    "cv_adaBoost = pd.Series(cv_adaBoost, index = estimators)\n",
    "\n",
    "\n",
    "cv_ada.plot(title = \"Cross validation - Adaboost\")\n",
    "plt.xlabel(\"Nº estimator\")\n",
    "plt.ylabel(\"F1-score\")\n",
    "print(\"A quantidade de estimators ideal é {0}, com F1 = {1}\".format(cv_ada.idxmax(), cv_ada.max()))"
   ]
  },
  {
   "cell_type": "markdown",
   "metadata": {},
   "source": [
    "## Random forest"
   ]
  },
  {
   "cell_type": "code",
   "execution_count": 57,
   "metadata": {},
   "outputs": [
    {
     "name": "stderr",
     "output_type": "stream",
     "text": [
      "/home/renato/anaconda3/lib/python3.7/site-packages/sklearn/metrics/classification.py:1143: UndefinedMetricWarning: Precision and F-score are ill-defined and being set to 0.0 in labels with no predicted samples.\n",
      "  'precision', 'predicted', average, warn_for)\n",
      "/home/renato/anaconda3/lib/python3.7/site-packages/sklearn/metrics/classification.py:1143: UndefinedMetricWarning: Precision and F-score are ill-defined and being set to 0.0 in labels with no predicted samples.\n",
      "  'precision', 'predicted', average, warn_for)\n",
      "/home/renato/anaconda3/lib/python3.7/site-packages/sklearn/metrics/classification.py:1143: UndefinedMetricWarning: Precision and F-score are ill-defined and being set to 0.0 in labels with no predicted samples.\n",
      "  'precision', 'predicted', average, warn_for)\n",
      "/home/renato/anaconda3/lib/python3.7/site-packages/sklearn/metrics/classification.py:1143: UndefinedMetricWarning: Precision and F-score are ill-defined and being set to 0.0 in labels with no predicted samples.\n",
      "  'precision', 'predicted', average, warn_for)\n",
      "/home/renato/anaconda3/lib/python3.7/site-packages/sklearn/metrics/classification.py:1143: UndefinedMetricWarning: Precision and F-score are ill-defined and being set to 0.0 in labels with no predicted samples.\n",
      "  'precision', 'predicted', average, warn_for)\n",
      "/home/renato/anaconda3/lib/python3.7/site-packages/sklearn/metrics/classification.py:1143: UndefinedMetricWarning: Precision and F-score are ill-defined and being set to 0.0 in labels with no predicted samples.\n",
      "  'precision', 'predicted', average, warn_for)\n",
      "/home/renato/anaconda3/lib/python3.7/site-packages/sklearn/metrics/classification.py:1143: UndefinedMetricWarning: Precision and F-score are ill-defined and being set to 0.0 in labels with no predicted samples.\n",
      "  'precision', 'predicted', average, warn_for)\n",
      "/home/renato/anaconda3/lib/python3.7/site-packages/sklearn/metrics/classification.py:1143: UndefinedMetricWarning: Precision and F-score are ill-defined and being set to 0.0 in labels with no predicted samples.\n",
      "  'precision', 'predicted', average, warn_for)\n",
      "/home/renato/anaconda3/lib/python3.7/site-packages/sklearn/metrics/classification.py:1143: UndefinedMetricWarning: Precision and F-score are ill-defined and being set to 0.0 in labels with no predicted samples.\n",
      "  'precision', 'predicted', average, warn_for)\n",
      "/home/renato/anaconda3/lib/python3.7/site-packages/sklearn/metrics/classification.py:1143: UndefinedMetricWarning: Precision and F-score are ill-defined and being set to 0.0 in labels with no predicted samples.\n",
      "  'precision', 'predicted', average, warn_for)\n",
      "/home/renato/anaconda3/lib/python3.7/site-packages/sklearn/metrics/classification.py:1143: UndefinedMetricWarning: Precision and F-score are ill-defined and being set to 0.0 in labels with no predicted samples.\n",
      "  'precision', 'predicted', average, warn_for)\n",
      "/home/renato/anaconda3/lib/python3.7/site-packages/sklearn/metrics/classification.py:1143: UndefinedMetricWarning: Precision and F-score are ill-defined and being set to 0.0 in labels with no predicted samples.\n",
      "  'precision', 'predicted', average, warn_for)\n",
      "/home/renato/anaconda3/lib/python3.7/site-packages/sklearn/metrics/classification.py:1143: UndefinedMetricWarning: Precision and F-score are ill-defined and being set to 0.0 in labels with no predicted samples.\n",
      "  'precision', 'predicted', average, warn_for)\n",
      "/home/renato/anaconda3/lib/python3.7/site-packages/sklearn/metrics/classification.py:1143: UndefinedMetricWarning: Precision and F-score are ill-defined and being set to 0.0 in labels with no predicted samples.\n",
      "  'precision', 'predicted', average, warn_for)\n",
      "/home/renato/anaconda3/lib/python3.7/site-packages/sklearn/metrics/classification.py:1143: UndefinedMetricWarning: Precision and F-score are ill-defined and being set to 0.0 in labels with no predicted samples.\n",
      "  'precision', 'predicted', average, warn_for)\n",
      "/home/renato/anaconda3/lib/python3.7/site-packages/sklearn/metrics/classification.py:1143: UndefinedMetricWarning: Precision and F-score are ill-defined and being set to 0.0 in labels with no predicted samples.\n",
      "  'precision', 'predicted', average, warn_for)\n",
      "/home/renato/anaconda3/lib/python3.7/site-packages/sklearn/metrics/classification.py:1143: UndefinedMetricWarning: Precision and F-score are ill-defined and being set to 0.0 in labels with no predicted samples.\n",
      "  'precision', 'predicted', average, warn_for)\n",
      "/home/renato/anaconda3/lib/python3.7/site-packages/sklearn/metrics/classification.py:1143: UndefinedMetricWarning: Precision and F-score are ill-defined and being set to 0.0 in labels with no predicted samples.\n",
      "  'precision', 'predicted', average, warn_for)\n",
      "/home/renato/anaconda3/lib/python3.7/site-packages/sklearn/metrics/classification.py:1143: UndefinedMetricWarning: Precision and F-score are ill-defined and being set to 0.0 in labels with no predicted samples.\n",
      "  'precision', 'predicted', average, warn_for)\n",
      "/home/renato/anaconda3/lib/python3.7/site-packages/sklearn/metrics/classification.py:1143: UndefinedMetricWarning: Precision and F-score are ill-defined and being set to 0.0 in labels with no predicted samples.\n",
      "  'precision', 'predicted', average, warn_for)\n",
      "/home/renato/anaconda3/lib/python3.7/site-packages/sklearn/metrics/classification.py:1143: UndefinedMetricWarning: Precision and F-score are ill-defined and being set to 0.0 in labels with no predicted samples.\n",
      "  'precision', 'predicted', average, warn_for)\n",
      "/home/renato/anaconda3/lib/python3.7/site-packages/sklearn/metrics/classification.py:1143: UndefinedMetricWarning: Precision and F-score are ill-defined and being set to 0.0 in labels with no predicted samples.\n",
      "  'precision', 'predicted', average, warn_for)\n",
      "/home/renato/anaconda3/lib/python3.7/site-packages/sklearn/metrics/classification.py:1143: UndefinedMetricWarning: Precision and F-score are ill-defined and being set to 0.0 in labels with no predicted samples.\n",
      "  'precision', 'predicted', average, warn_for)\n",
      "/home/renato/anaconda3/lib/python3.7/site-packages/sklearn/metrics/classification.py:1143: UndefinedMetricWarning: Precision and F-score are ill-defined and being set to 0.0 in labels with no predicted samples.\n",
      "  'precision', 'predicted', average, warn_for)\n"
     ]
    }
   ],
   "source": [
    "depth_list = np.arange(1,100,1).tolist()\n",
    "\n",
    "cv_forest = [cv_report(RandomForestClassifier(max_depth = max_depth, n_estimators=70, random_state=7, class_weight=\"balanced_subsample\"), treino_X, treino_Y, 5).mean()\n",
    "            for max_depth in depth_list]"
   ]
  },
  {
   "cell_type": "code",
   "execution_count": 99,
   "metadata": {},
   "outputs": [
    {
     "data": {
      "image/png": "[encoded data removed]",
      "text/plain": [
       "<Figure size 432x288 with 1 Axes>"
      ]
     },
     "metadata": {
      "needs_background": "light"
     },
     "output_type": "display_data"
    },
    {
     "name": "stdout",
     "output_type": "stream",
     "text": [
      "A melhor profundidade (para estimators=100) é 16, com F1 = 0.9434585484540976\n"
     ]
    }
   ],
   "source": [
    "cv_forest = pd.Series(cv_forest, index = depth_list)\n",
    "cv_forest.plot(title = \"Cross validation - Random Forest (nº estimators = 70)\")\n",
    "plt.xlabel(\"max depth\")\n",
    "plt.ylabel(\"F1-score\")\n",
    "plt.show()\n",
    "\n",
    "print(\"A melhor profundidade (para estimators=70) é {0}, com F1 = {1}\".format(cv_forest.idxmax(), cv_forest.max()))"
   ]
  },
  {
   "cell_type": "code",
   "execution_count": 100,
   "metadata": {},
   "outputs": [],
   "source": [
    "estimators_list = np.arange(10,500,10).tolist()\n",
    "\n",
    "cv_forest_dpMin = [f1_cv(RandomForestClassifier(max_depth = cv_forest.idxmax(), n_estimators = n_estimators, random_state=7, class_weight=\"balanced_subsample\"), treino_X, treino_X, 5).mean()\n",
    "            for n_estimators in estimators_list]"
   ]
  },
  {
   "cell_type": "code",
   "execution_count": 101,
   "metadata": {},
   "outputs": [
    {
     "data": {
      "image/png": "[encoded data removed]",
      "text/plain": [
       "<Figure size 432x288 with 1 Axes>"
      ]
     },
     "metadata": {
      "needs_background": "light"
     },
     "output_type": "display_data"
    },
    {
     "name": "stdout",
     "output_type": "stream",
     "text": [
      "O melhor número de estimators (para profundidade=16) é 170, com F1 = 0.9453795023820757\n"
     ]
    }
   ],
   "source": [
    "cv_forest_dpMin = pd.Series(cv_forest_dpMin, index = estimators_list)\n",
    "cv_forest_dpMin.plot(title = \"Validation - Random Forest (depth = {0})\".format(cv_forest.idxmax()))\n",
    "plt.xlabel(\"nº estimators\")\n",
    "plt.ylabel(\"F1-score\")\n",
    "plt.show()\n",
    "\n",
    "print(\"O melhor número de estimators (para profundidade={0}) é {1}, com F1 = {2}\".format(cv_forest.idxmax(), cv_forest_dpMin.idxmax(), cv_forest_dpMin.max()))"
   ]
  },
  {
   "cell_type": "code",
   "execution_count": 102,
   "metadata": {},
   "outputs": [
    {
     "name": "stdout",
     "output_type": "stream",
     "text": [
      "O F1 do modelo para todos os dados é 0.8588297034898976\n"
     ]
    }
   ],
   "source": [
    "rdForest = RandomForestClassifier(max_depth=cv_forest.idxmax(), n_estimators=cv_forest_dpMin.idxmax(), random_state=7)\n",
    "rdForest.fit(x_cc,y_cc)\n",
    "\n",
    "print(\"O F1 do modelo para todos os dados é {0}\".format(real_f1(rdForest)))"
   ]
  },
  {
   "cell_type": "markdown",
   "metadata": {},
   "source": [
    "## Dados de envio"
   ]
  },
  {
   "cell_type": "code",
   "execution_count": 47,
   "metadata": {},
   "outputs": [],
   "source": [
    "lgModel = LogisticRegression(solver=\"lbfgs\", max_iter=10000, C=1.69, random_state=1)\n",
    "lgModel.fit(x_cc,y_cc)\n",
    "\n",
    "\n",
    "predictions = lgModel.predict(teste)"
   ]
  },
  {
   "cell_type": "code",
   "execution_count": 61,
   "metadata": {},
   "outputs": [],
   "source": [
    "rdForest = RandomForestClassifier(max_depth=26, n_estimators=100, random_state=7)\n",
    "rdForest.fit(x_cc,y_cc)\n",
    "\n",
    "predictions = rdForest.predict(teste)"
   ]
  },
  {
   "cell_type": "code",
   "execution_count": 52,
   "metadata": {},
   "outputs": [],
   "source": [
    "knnModel = KNeighborsClassifier(n_neighbors=1)\n",
    "knnModel.fit(treino_X,treino_Y)\n",
    "\n",
    "predictions = knnModel.predict(teste)"
   ]
  },
  {
   "cell_type": "code",
   "execution_count": 53,
   "metadata": {},
   "outputs": [],
   "source": [
    "envio = pd.read_csv(\"sample_submission.csv\")\n",
    "\n",
    "envio[\"Predicted\"] = predictions\n",
    "envio[\"Predicted\"] = envio[\"Predicted\"].replace([0, 1],['nao_eleito', 'eleito'])"
   ]
  },
  {
   "cell_type": "code",
   "execution_count": 55,
   "metadata": {},
   "outputs": [],
   "source": [
    "envio.to_csv(\"Envio.csv\", index=False)"
   ]
  },
  {
   "cell_type": "code",
   "execution_count": null,
   "metadata": {},
   "outputs": [],
   "source": []
  }
 ],
 "metadata": {
  "kernelspec": {
   "display_name": "Python 3",
   "language": "python",
   "name": "python3"
  },
  "language_info": {
   "codemirror_mode": {
    "name": "ipython",
    "version": 3
   },
   "file_extension": ".py",
   "mimetype": "text/x-python",
   "name": "python",
   "nbconvert_exporter": "python",
   "pygments_lexer": "ipython3",
   "version": "3.7.0"
  }
 },
 "nbformat": 4,
 "nbformat_minor": 2
}
