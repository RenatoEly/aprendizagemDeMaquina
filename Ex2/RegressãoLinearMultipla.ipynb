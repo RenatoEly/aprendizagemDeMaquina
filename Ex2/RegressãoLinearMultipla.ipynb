{
 "cells": [
  {
   "cell_type": "code",
   "execution_count": 61,
   "metadata": {
    "collapsed": true
   },
   "outputs": [],
   "source": [
    "import numpy as np\n",
    "import time\n",
    "from sklearn.linear_model import LinearRegression"
   ]
  },
  {
   "cell_type": "code",
   "execution_count": 62,
   "metadata": {
    "collapsed": true
   },
   "outputs": [],
   "source": [
    "def compute_mse_vectorized(w,X,Y):\n",
    "    res = Y - np.dot(X,w)\n",
    "    totalError = np.dot(res.T,res)\n",
    "    return totalError / float(len(Y))"
   ]
  },
  {
   "cell_type": "code",
   "execution_count": 63,
   "metadata": {
    "collapsed": true
   },
   "outputs": [],
   "source": [
    "def step_gradient_vectorized(w_current,X,Y,learningRate):\n",
    "    res = Y - np.dot(X,w_current)\n",
    "    gradient = np.multiply(X, res)\n",
    "    gradient = np.sum(gradient,axis=0)\n",
    "    gradient = gradient[:,np.newaxis]\n",
    "    new_w = w_current + 2 * learningRate * gradient\n",
    "    return [new_w,gradient]"
   ]
  },
  {
   "cell_type": "code",
   "execution_count": 64,
   "metadata": {
    "collapsed": true
   },
   "outputs": [],
   "source": [
    "def gradient_descent_runner_vectorized(starting_w, X,Y, learning_rate, epsilon):\n",
    "    w = starting_w\n",
    "    grad = np.array([np.inf])\n",
    "    while (np.linalg.norm(grad)>=epsilon):\n",
    "        w,grad = step_gradient_vectorized(w, X, Y, learning_rate)\n",
    "    return w"
   ]
  },
  {
   "cell_type": "code",
   "execution_count": 65,
   "metadata": {},
   "outputs": [
    {
     "name": "stdout",
     "output_type": "stream",
     "text": [
      "Iniciando gradiente descendente com todos os parâmetros iniciais 0 e erro = 54.47995385562645\n",
      "Running...\n",
      "Gradiente descendente convergiu com w0 = 1.7360835733827988, w1 = 0.10307060281002467, w2 = 0.04651120096128541, w3 = 0.1640946350017253, w4 = 0.3812610918698945, w5 = 0.02029819094056926, error = 0.4113376077735087\n",
      "Versão vetorizada rodou em: 3068.3753490448 ms\n"
     ]
    }
   ],
   "source": [
    "points = np.genfromtxt(\"sample_treino.csv\", delimiter=\",\")\n",
    "points = np.c_[np.ones(len(points)),points]\n",
    "X = points[:,0:-1]\n",
    "Y = points[:,-1][:,np.newaxis]\n",
    "\n",
    "init_w = np.zeros((len(X[0]),1))\n",
    "learning_rate = 0.00003\n",
    "epsilon = 0.001\n",
    "print(\"Iniciando gradiente descendente com todos os parâmetros iniciais 0 e erro = {0}\".format(compute_mse_vectorized(init_w, X,Y)[0][0]))\n",
    "print(\"Running...\")\n",
    "tic = time.time()\n",
    "w = gradient_descent_runner_vectorized(init_w, X,Y, learning_rate, epsilon)\n",
    "toc = time.time()\n",
    "print(\"Gradiente descendente convergiu com w0 = {0}, w1 = {1}, w2 = {2}, w3 = {3}, w4 = {4}, w5 = {5}, error = {6}\".format(w[0][0], w[1][0], w[2][0], w[3][0], w[4][0], w[5][0], compute_mse_vectorized(w,X,Y)[0][0]))\n",
    "print(\"Versão vetorizada rodou em: \" + str(1000*(toc-tic)) + \" ms\")"
   ]
  },
  {
   "cell_type": "code",
   "execution_count": 66,
   "metadata": {},
   "outputs": [],
   "source": [
    "X = X [:,1:]"
   ]
  },
  {
   "cell_type": "code",
   "execution_count": 67,
   "metadata": {},
   "outputs": [
    {
     "name": "stdout",
     "output_type": "stream",
     "text": [
      "intercept=[ 1.73771151], coef=[[ 0.10304143  0.0464367   0.16409834  0.38117843  0.02027816]]\n"
     ]
    }
   ],
   "source": [
    "reg = LinearRegression()\n",
    "reg.fit(X,Y)\n",
    "print(\"intercept={0}, coef={1}\".format(reg.intercept_,reg.coef_))\n"
   ]
  },
  {
   "cell_type": "markdown",
   "metadata": {},
   "source": [
    "É possível observar que os coeficientes obtidos usando a regressão linear do scikit-learn e os obtidos com o gradiente descendente são muito próximos."
   ]
  },
  {
   "cell_type": "code",
   "execution_count": null,
   "metadata": {
    "collapsed": true
   },
   "outputs": [],
   "source": []
  }
 ],
 "metadata": {
  "kernelspec": {
   "display_name": "Python 3",
   "language": "python",
   "name": "python3"
  },
  "language_info": {
   "codemirror_mode": {
    "name": "ipython",
    "version": 3
   },
   "file_extension": ".py",
   "mimetype": "text/x-python",
   "name": "python",
   "nbconvert_exporter": "python",
   "pygments_lexer": "ipython3",
   "version": "3.6.3"
  }
 },
 "nbformat": 4,
 "nbformat_minor": 2
}
