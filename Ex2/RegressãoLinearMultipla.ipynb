{
 "cells": [
  {
   "cell_type": "code",
   "execution_count": 68,
   "metadata": {
    "collapsed": true
   },
   "outputs": [],
   "source": [
    "import numpy as np\n",
    "import time\n",
    "from sklearn.linear_model import LinearRegression"
   ]
  },
  {
   "cell_type": "code",
   "execution_count": 69,
   "metadata": {
    "collapsed": true
   },
   "outputs": [],
   "source": [
    "def compute_mse_vectorized(w,X,Y):\n",
    "    res = Y - np.dot(X,w)\n",
    "    totalError = np.dot(res.T,res)\n",
    "    return totalError / float(len(Y))"
   ]
  },
  {
   "cell_type": "markdown",
   "metadata": {},
   "source": [
    "Versão vetorizada para qualquer quantidade de variáveis"
   ]
  },
  {
   "cell_type": "code",
   "execution_count": 73,
   "metadata": {
    "collapsed": true
   },
   "outputs": [],
   "source": [
    "def step_gradient_vectorized(w_current,X,Y,learningRate):\n",
    "    res = Y - np.dot(X,w_current)\n",
    "    gradient = np.multiply(X, res)\n",
    "    gradient = -2 * np.sum(gradient,axis=0)\n",
    "    gradient = gradient[:,np.newaxis]\n",
    "    new_w = w_current - learningRate * gradient\n",
    "    return [new_w, gradient]"
   ]
  },
  {
   "cell_type": "code",
   "execution_count": 74,
   "metadata": {
    "collapsed": true
   },
   "outputs": [],
   "source": [
    "def gradient_descent_runner_vectorized(starting_w, X,Y, learning_rate, epsilon):\n",
    "    w = starting_w\n",
    "    grad = np.array([np.inf])\n",
    "    while (np.linalg.norm(grad)>=epsilon):\n",
    "        w, grad = step_gradient_vectorized(w, X, Y, learning_rate)\n",
    "    return w"
   ]
  },
  {
   "cell_type": "code",
   "execution_count": 78,
   "metadata": {},
   "outputs": [
    {
     "name": "stdout",
     "output_type": "stream",
     "text": [
      "Iniciando gradiente descendente com todos os parâmetros iniciais 0 e erro = 54.47995385562645\n",
      "Running...\n",
      "Gradiente descendente convergiu com coeficientes: [ 1.73608355  0.1030706   0.0465112   0.16409463  0.38126109  0.02029819] e error = 0.411337607774082\n",
      "Versão vetorizada rodou em: 2644.449234008789 ms\n"
     ]
    }
   ],
   "source": [
    "points = np.genfromtxt(\"sample_treino.csv\", delimiter=\",\")\n",
    "points = np.c_[np.ones(len(points)),points]\n",
    "X = points[:,0:-1]\n",
    "Y = points[:,-1][:,np.newaxis]\n",
    "\n",
    "init_w = np.zeros((len(X[0]),1))\n",
    "learning_rate = 0.000035\n",
    "epsilon = 0.0001\n",
    "print(\"Iniciando gradiente descendente com todos os parâmetros iniciais 0 e erro = {0}\".format(compute_mse_vectorized(init_w, X,Y)[0][0]))\n",
    "print(\"Running...\")\n",
    "tic = time.time()\n",
    "w = gradient_descent_runner_vectorized(init_w, X,Y, learning_rate, epsilon)\n",
    "toc = time.time()\n",
    "print(\"Gradiente descendente convergiu com coeficientes: {0} e erro = {1}\".format(w[:,0], compute_mse_vectorized(w,X,Y)[0][0]))\n",
    "print(\"Versão vetorizada rodou em: \" + str(1000*(toc-tic)) + \" ms\")"
   ]
  },
  {
   "cell_type": "markdown",
   "metadata": {},
   "source": [
    "Removendo a primeira coluna com tudo 1 que foi adicionada aos dados para poder usar o scikit."
   ]
  },
  {
   "cell_type": "code",
   "execution_count": 66,
   "metadata": {},
   "outputs": [],
   "source": [
    "X = X [:,1:]"
   ]
  },
  {
   "cell_type": "markdown",
   "metadata": {},
   "source": [
    "Regressão linear com o scikit"
   ]
  },
  {
   "cell_type": "code",
   "execution_count": 67,
   "metadata": {},
   "outputs": [
    {
     "name": "stdout",
     "output_type": "stream",
     "text": [
      "intercept=[ 1.73771151], coef=[[ 0.10304143  0.0464367   0.16409834  0.38117843  0.02027816]]\n"
     ]
    }
   ],
   "source": [
    "reg = LinearRegression()\n",
    "reg.fit(X,Y)\n",
    "print(\"intercept={0}, coef={1}\".format(reg.intercept_,reg.coef_))"
   ]
  },
  {
   "cell_type": "markdown",
   "metadata": {},
   "source": [
    "É possível observar que os coeficientes obtidos usando a regressão linear do scikit-learn e os obtidos com o gradiente descendente são muito próximos."
   ]
  },
  {
   "cell_type": "code",
   "execution_count": null,
   "metadata": {
    "collapsed": true
   },
   "outputs": [],
   "source": []
  }
 ],
 "metadata": {
  "kernelspec": {
   "display_name": "Python 3",
   "language": "python",
   "name": "python3"
  },
  "language_info": {
   "codemirror_mode": {
    "name": "ipython",
    "version": 3
   },
   "file_extension": ".py",
   "mimetype": "text/x-python",
   "name": "python",
   "nbconvert_exporter": "python",
   "pygments_lexer": "ipython3",
   "version": "3.7.0"
  }
 },
 "nbformat": 4,
 "nbformat_minor": 2
}
