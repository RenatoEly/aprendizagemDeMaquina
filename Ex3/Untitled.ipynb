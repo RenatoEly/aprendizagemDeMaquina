{
 "cells": [
  {
   "cell_type": "code",
   "execution_count": null,
   "metadata": {},
   "outputs": [],
   "source": [
    "import pandas as pd\n",
    "import numpy as np\n",
    "import seaborn as sns\n",
    "import matplotlib\n",
    "\n",
    "import matplotlib.pyplot as plt\n",
    "from scipy.stats import skew\n",
    "from scipy.stats.stats import pearsonr"
   ]
  },
  {
   "cell_type": "code",
   "execution_count": null,
   "metadata": {},
   "outputs": [],
   "source": [
    "data = pd.read_csv(\"eleicoes_2006_a_2010.csv\")\n",
    "\n",
    "matplotlib.rcParams['figure.figsize'] = (14.0, 8.0)"
   ]
  },
  {
   "cell_type": "code",
   "execution_count": null,
   "metadata": {},
   "outputs": [],
   "source": [
    "data.head()"
   ]
  },
  {
   "cell_type": "code",
   "execution_count": null,
   "metadata": {},
   "outputs": [],
   "source": [
    "df_votos = pd.DataFrame({\"votos\":data[\"votos\"], \"log(votos + 1)\":np.log1p(data[\"votos\"])})\n",
    "df_votos.hist(log=True)\n",
    "\n",
    "df_qtdDoacoes = pd.DataFrame({\"qtd. Doacoes\":data[\"quantidade_doacoes\"], \"log(qtd. Doacoes + 1)\":np.log1p(data[\"quantidade_doacoes\"])})\n",
    "df_qtdDoacoes.hist(log=True)\n",
    "\n",
    "df_qtdDoadores = pd.DataFrame({\"qtd. Doadores\":data[\"quantidade_doadores\"], \"log(qtd. Doadores + 1)\":np.log1p(data[\"quantidade_doadores\"])})\n",
    "df_qtdDoadores.hist(log=True)\n",
    "\n",
    "df_totalReceita = pd.DataFrame({\"total receita\":data[\"total_receita\"], \"log(total receita + 1)\":np.log1p(data[\"total_receita\"])})\n",
    "df_totalReceita.hist(log=True)\n",
    "\n",
    "df_recursosOutros = pd.DataFrame({\"recursos de outros\":data[\"recursos_de_outros_candidatos/comites\"], \"log(recursos de outros + 1)\":np.log1p(data[\"recursos_de_outros_candidatos/comites\"])})\n",
    "df_recursosOutros.hist(log=True)\n",
    "\n",
    "df_qtdDespesas = pd.DataFrame({\"qtd. Despesas\":data[\"quantidade_despesas\"], \"log(qtd. Despesas + 1)\":np.log1p(data[\"quantidade_despesas\"])})\n",
    "df_qtdDespesas.hist(log=True)\n",
    "\n",
    "df_qtdFornecedores = pd.DataFrame({\"qtd. Fornecedores\":data[\"quantidade_fornecedores\"], \"log(qtd. Fornecedores + 1)\":np.log1p(data[\"quantidade_fornecedores\"])})\n",
    "df_qtdFornecedores.hist(log=True)\n",
    "\n",
    "df_totalDespesas = pd.DataFrame({\"total despesa\":data[\"total_despesa\"], \"log(total despesa + 1)\":np.log1p(data[\"total_despesa\"])})\n",
    "df_totalDespesas.hist(log=True)"
   ]
  },
  {
   "cell_type": "code",
   "execution_count": null,
   "metadata": {},
   "outputs": [],
   "source": [
    "data = data.drop('media_receita', axis=1)\n",
    "data = data.drop('media_despesa', axis=1)\n",
    "data.head()"
   ]
  },
  {
   "cell_type": "code",
   "execution_count": null,
   "metadata": {},
   "outputs": [],
   "source": [
    "#log transform skewed numeric features\n",
    "numeric_feats = data.dtypes[data.dtypes != \"object\"].index\n",
    "\n",
    "numeric_feats = numeric_feats.drop('ano') #não aplico normalização na variável ano pois ela é categórica\n",
    "\n",
    "data[numeric_feats] = np.log1p(data[numeric_feats])"
   ]
  },
  {
   "cell_type": "code",
   "execution_count": null,
   "metadata": {},
   "outputs": [],
   "source": [
    "from sklearn.model_selection import train_test_split\n",
    "entradas = data.loc[:,:'ocupacao']\n",
    "saida = data.loc[:,'votos']\n",
    "\n",
    "entradas = entradas.fillna(entradas.mean())\n",
    "\n",
    "X_train, X_test, Y_train, Y_test = train_test_split(entradas,saida)"
   ]
  },
  {
   "cell_type": "code",
   "execution_count": null,
   "metadata": {},
   "outputs": [],
   "source": [
    "X_train = pd.get_dummies(X_train)\n",
    "X_test = pd.get_dummies(X_test)"
   ]
  },
  {
   "cell_type": "code",
   "execution_count": null,
   "metadata": {},
   "outputs": [],
   "source": [
    "from sklearn.model_selection import cross_val_score\n",
    "\n",
    "def rmse_cv(model):\n",
    "    rmse= np.sqrt(-cross_val_score(model, X_train, Y_train, scoring=\"neg_mean_squared_error\", cv = 5))\n",
    "    return(rmse)"
   ]
  },
  {
   "cell_type": "code",
   "execution_count": null,
   "metadata": {},
   "outputs": [],
   "source": [
    "from sklearn.linear_model import LinearRegression\n",
    "from sklearn.metrics import mean_squared_error\n",
    "reg_linear = LinearRegression()\n",
    "reg_linear.fit(X_train, Y_train)\n",
    "mean_squared_error(Y_train, reg_linear.predict(X_train))"
   ]
  },
  {
   "cell_type": "code",
   "execution_count": null,
   "metadata": {},
   "outputs": [],
   "source": [
    "from sklearn.linear_model import Ridge\n",
    "alphas_ridge = np.arange(0.5,12,0.5).tolist()\n",
    "cv_ridge = [rmse_cv(Ridge(alpha = alpha)).mean() \n",
    "            for alpha in alphas_ridge]\n",
    "cv_ridge = pd.Series(cv_ridge, index = alphas_ridge)\n",
    "cv_ridge.plot(title = \"Validation - Just Do It\")\n",
    "plt.xlabel(\"alpha\")\n",
    "plt.ylabel(\"rmse\")"
   ]
  }
 ],
 "metadata": {
  "kernelspec": {
   "display_name": "Python 2",
   "language": "python",
   "name": "python2"
  },
  "language_info": {
   "codemirror_mode": {
    "name": "ipython",
    "version": 3
   },
   "file_extension": ".py",
   "mimetype": "text/x-python",
   "name": "python",
   "nbconvert_exporter": "python",
   "pygments_lexer": "ipython3",
   "version": "3.7.0"
  }
 },
 "nbformat": 4,
 "nbformat_minor": 2
}
